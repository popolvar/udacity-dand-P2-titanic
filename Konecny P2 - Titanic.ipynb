{
 "cells": [
  {
   "cell_type": "markdown",
   "metadata": {},
   "source": [
    "## The investigated question\n",
    "\n",
    "The sinking of Titanic is probably the most notorious peace time naval disaster in history. As such it is not only source of many popular legends, but also primary source of exposition of naval code of conduct in such tragic cases. For instance the the popular belief, that the captain should be the last person leaving the ship likely originates from dramatic portrayal of the Titanic disaster.\n",
    "\n",
    "Another instance of maritime chivarly dictates, that 'woman and children (are) first' to board the rescue boats. However the 1997 Titanic movie tells a different story. Acording to the movie, the class and status of passangers took precedence over chivalry, and passangers for lower class were simply let drown regardless of their sex and age.\n",
    "\n",
    "My goal is to investigate whether the data supports either the chivalry or class based interpretation of the story.\n",
    "\n",
    "** Does the data provide strong support for one of these claims:**\n",
    "\n",
    "** Question 1. Had woman a children a higher chance to survive the Titanic dissaster regardless of their class status? **\n",
    "\n",
    "** Question 2. Had first class passangers a higher chance to survive then woman and children from lower classes?**"
   ]
  },
  {
   "cell_type": "markdown",
   "metadata": {},
   "source": [
    "## Loading and type casting the data"
   ]
  },
  {
   "cell_type": "code",
   "execution_count": 1,
   "metadata": {
    "collapsed": false
   },
   "outputs": [],
   "source": [
    "#reading in csv\n",
    "\n",
    "import unicodecsv\n",
    "\n",
    "passangers_header = []\n",
    "\n",
    "def read_csv(filename):\n",
    "    with open(filename, 'rb') as f:\n",
    "        reader = unicodecsv.DictReader(f)\n",
    "        header = reader.fieldnames\n",
    "        return header,list(reader)\n",
    "    \n",
    "\n",
    "passangers_header, passangers_csv = read_csv(\"titanic_data.csv\")"
   ]
  },
  {
   "cell_type": "code",
   "execution_count": 2,
   "metadata": {
    "collapsed": false
   },
   "outputs": [
    {
     "data": {
      "text/plain": [
       "{u'Age': 22.0,\n",
       " u'Cabin': u'',\n",
       " u'Embarked': u'S',\n",
       " u'Fare': 7.25,\n",
       " u'Name': u'Braund, Mr. Owen Harris',\n",
       " u'Parch': 0,\n",
       " u'PassengerId': 1,\n",
       " u'Pclass': 3,\n",
       " u'Sex': u'male',\n",
       " u'SibSp': 1,\n",
       " u'Survived': False,\n",
       " u'Ticket': u'A/5 21171'}"
      ]
     },
     "execution_count": 2,
     "metadata": {},
     "output_type": "execute_result"
    }
   ],
   "source": [
    "#parsing the data, code adapted from the lecture\n",
    "\n",
    "# Takes a string which is either an empty string or represents an integer,\n",
    "# and returns an int or None.\n",
    "def parse_maybe_int(i):\n",
    "    if i == '':\n",
    "        return None\n",
    "    else:\n",
    "        return int(i)\n",
    "\n",
    "def parse_maybe_float(f):\n",
    "    if f == '':\n",
    "        return None\n",
    "    else:\n",
    "        return float(f)\n",
    "    \n",
    "    \n",
    "# Clean up the data types in the enrollments table\n",
    "for passanger in passangers_csv:\n",
    "    passanger['Age'] = parse_maybe_float(passanger['Age'])    \n",
    "    passanger['Fare'] = parse_maybe_float(passanger['Fare'])\n",
    "    \n",
    "    passanger['Parch'] = parse_maybe_int(passanger['Parch'])\n",
    "    passanger['PassengerId'] = parse_maybe_int(passanger['PassengerId'])\n",
    "    passanger['Pclass'] = parse_maybe_int(passanger['Pclass'])\n",
    "    passanger['SibSp'] = parse_maybe_int(passanger['SibSp'])\n",
    "    \n",
    "    passanger['Survived'] = bool(parse_maybe_int(passanger['Survived'])) \n",
    "\n",
    "passangers_csv[0]"
   ]
  },
  {
   "cell_type": "markdown",
   "metadata": {},
   "source": [
    "## Quick Exploration of Data\n",
    "\n",
    "Let us explore what are the different values and their frequencies for each field."
   ]
  },
  {
   "cell_type": "code",
   "execution_count": 36,
   "metadata": {
    "collapsed": false
   },
   "outputs": [
    {
     "name": "stdout",
     "output_type": "stream",
     "text": [
      "All keys unique  False\n",
      "different keys  2\n",
      "total 891\n"
     ]
    },
    {
     "data": {
      "text/plain": [
       "defaultdict(int, {u'female': 0.35241301907968575, u'male': 0.6475869809203143})"
      ]
     },
     "execution_count": 36,
     "metadata": {},
     "output_type": "execute_result"
    }
   ],
   "source": [
    "from collections import defaultdict\n",
    "\n",
    "def value_freq(field, csv, normalize = True, verbose = False):\n",
    "    result_dict = defaultdict(int)\n",
    "    total_count = 0\n",
    "    \n",
    "    #keeps track whether keys provide a unique identifier\n",
    "    all_unique = True\n",
    "    \n",
    "    for entry in csv:\n",
    "        key = entry[field] \n",
    "        \n",
    "        result_dict[key] += 1\n",
    "        if all_unique and key is not None and result_dict[key]==2:\n",
    "            all_unique = False\n",
    "        \n",
    "        total_count +=1;\n",
    "    \n",
    "    #normalize/ calculate frequency\n",
    "    if normalize:\n",
    "        for key in result_dict:\n",
    "            result_dict[key] /= float(total_count)\n",
    "    \n",
    "    \n",
    "    if verbose:\n",
    "        if None in result_dict:\n",
    "            print \"%s %s\" % (\"None\", result_dict[None])\n",
    "\n",
    "        print \"%s %s\" % (\"All keys unique \", all_unique)\n",
    "        print \"%s %s\" % (\"different keys \", len(result_dict))\n",
    "        print \"%s %s\" % (\"total\", total_count)\n",
    "    \n",
    "    return result_dict\n",
    "\n",
    "attr_list = ['Age','Fare','Pclass','Sex','Survived']\n",
    "value_freq('Sex',passangers_csv,normalize = True, verbose = True)"
   ]
  },
  {
   "cell_type": "markdown",
   "metadata": {},
   "source": [
    "According to Wikipedia [Casualties and survivors](https://en.wikipedia.org/wiki/Sinking_of_the_RMS_Titanic#Casualties_and_survivors) there were 1207 passanger and 442 survivors which leads to 37% survival rate (since the Kaggle dataset contains only passangers, we consider only passanger information and excluded crew infromation). The provided Kaggle data set has only 891 data points. \n",
    "\n",
    "So about 300 data point were removed from the Kaggle data set. This raises the questions why there were removed. ** Specifically, were those data points removed (from the Kaggle sample) to accentuate trends which were not so clear form the entire (Wikipedia) dataset? **\n",
    "\n",
    "It should be pointed out that any (and in particular passanger) data from the Titanic disaster is quite noisy, due to the historic era and tragic circumstances. According to Wikipedia page referenced earlier, the death toll was estimated between 1,490 and 1,635. This range represents about 7% of people aboard (passngers + crew). So there is no clear ground thruth to compare to. \n",
    "\n",
    "I also do not know whether the same data was used to generate the report from Wikipedia and to create the Kaggle sample. But it seems reasonable to assume that the general trends should be the same in both datasets.\n",
    "\n",
    "Let us adopt the following assumption, which we will revisit later.\n",
    "\n",
    "**Assumption 1: The Kaggle data is a representative sample of the (population of) passangers of the Titanic (as described in Wikipedia).**\n",
    "\n",
    "**Question 3: Does Assumption 1 hold?**"
   ]
  },
  {
   "cell_type": "markdown",
   "metadata": {},
   "source": [
    "As a quick check the survivor rate is very similar in the both data sets (38% in Kaggle vs 37% in Wikipedia). The proprtion of woman is also very similar. 35% in Kaggle to 38% in Wikipedia. Note that Wikipedia lists adults and children separately and reports only 33% female passangers. About 9% of passangers are listed as children. Using the [Passanger List](https://en.wikipedia.org/wiki/Passengers_of_the_RMS_Titanic#Passenger_list) from Wikipedia and assuming that passange of age 12 and below are considered children (more on that in Data Wrangling section) I establish that there were 53 girls on Titanic. So the total percentage of woman in the Wikipedia dataset rises to 38%.\n",
    "\n",
    "For now Assumption 1 seems to hold. However if this would not be the case, the applicability of conclusions drawn from Kaggle data to the historical Titanic disaster would be qustionable. \n",
    "\n",
    "To investigate my question, I would need to know the age limit for child in 1912. Ideally I would like to use the same value as was adopted in the Wikipedia article, so the results are comparable. Unfortunatelly Wikipedia does not explicitly state such age limit for a child. I will address this issue in Data Wrangling phase. \n",
    "\n",
    "For my investigation I will need the values for 'Age', 'Pclass' (which itself is a proxy for 'Fare'), 'Sex' and of course 'Survived' for each passanger.\n",
    "\n",
    "'Age' proves to be problematic since, since about 20% of passangers (177 passangers) don't have an entry for 'Age'.\n"
   ]
  },
  {
   "cell_type": "code",
   "execution_count": 29,
   "metadata": {
    "collapsed": false
   },
   "outputs": [
    {
     "name": "stdout",
     "output_type": "stream",
     "text": [
      "None 177\n",
      "All keys unique  False\n",
      "different keys  89\n",
      "total 891\n"
     ]
    }
   ],
   "source": [
    "value_freq('Age',passangers_csv,normalize = False, verbose = True);"
   ]
  },
  {
   "cell_type": "markdown",
   "metadata": {},
   "source": [
    "The age also has 88 (other the None) values so I will have to use histograms for visualisation.\n",
    "\n",
    "The remaining relevant fields 'Pclass', 'Sex' and 'Survived' nicely partition the data into two or three (for class) partitions.\n",
    "\n",
    "To be on the safe side I have checked whether 'Name' and  u'PassengerId' provide a unique identifier for each data point. They indeed do.\n"
   ]
  },
  {
   "cell_type": "markdown",
   "metadata": {},
   "source": [
    "## Data Wrangling"
   ]
  },
  {
   "cell_type": "markdown",
   "metadata": {},
   "source": [
    "Data wrangling consists of two steps:\n",
    "\n",
    "1. Remove the 177 Pasangers with unspecified age from the dataset\n",
    "2. Add a new (boolean) field 'Child' dataset\n",
    "\n",
    "The first step is straightforward:"
   ]
  },
  {
   "cell_type": "code",
   "execution_count": 30,
   "metadata": {
    "collapsed": false
   },
   "outputs": [
    {
     "name": "stdout",
     "output_type": "stream",
     "text": [
      "714\n",
      "\n",
      "None 1.0\n",
      "All keys unique  True\n",
      "different keys  1\n",
      "total 177\n"
     ]
    }
   ],
   "source": [
    "def filter_val_entries(field, dataset):\n",
    "    dataset_val = []\n",
    "    dataset_none = []\n",
    "    \n",
    "    for entry in dataset:\n",
    "        if entry[field] is not None:\n",
    "            dataset_val.append(entry)\n",
    "        else:\n",
    "            dataset_none.append(entry)\n",
    "    \n",
    "    return dataset_val, dataset_none\n",
    "\n",
    "passangers_csv_val, passangers_csv_none = filter_val_entries('Age', passangers_csv);\n",
    "\n",
    "#check whether the clean dataset has the right nr of entries 891-177 = 714\n",
    "print len(passangers_csv_val)\n",
    "print\n",
    "\n",
    "#another test whether all are None\n",
    "value_freq('Age',passangers_csv_none,normalize = True, verbose = True);\n"
   ]
  },
  {
   "cell_type": "markdown",
   "metadata": {},
   "source": [
    "I kept the entries with None values, because I was curious why there are so many of them. The [Passanger List](https://en.wikipedia.org/wiki/Passengers_of_the_RMS_Titanic#Passenger_list) at Wikipedia list only two passangers of unknown age. My first idea was, that majority of unknown age passangers did not survive to report their age. The data shows this is the case for 70% of them."
   ]
  },
  {
   "cell_type": "code",
   "execution_count": 31,
   "metadata": {
    "collapsed": false
   },
   "outputs": [
    {
     "data": {
      "text/plain": [
       "defaultdict(int, {False: 0.7062146892655368, True: 0.2937853107344633})"
      ]
     },
     "execution_count": 31,
     "metadata": {},
     "output_type": "execute_result"
    }
   ],
   "source": [
    "value_freq('Survived',passangers_csv_none, normalize = True, verbose = False)"
   ]
  },
  {
   "cell_type": "markdown",
   "metadata": {},
   "source": [
    "**Note 1** The Kaggle dataset contains 177 passangers of unknown age. The Wikipedia Passanger List has only 2.\n",
    "\n",
    "Does the proportion of woman and survivors change when passangers of unknown age are removed from the dataset?"
   ]
  },
  {
   "cell_type": "code",
   "execution_count": 76,
   "metadata": {
    "collapsed": false
   },
   "outputs": [
    {
     "name": "stdout",
     "output_type": "stream",
     "text": [
      "Woman before\t\t 35.24%\n",
      "Woman after\t\t 36.55%\n",
      "Woman Wikipedia\t\t 37.70%\n",
      "\n",
      "Survived before\t\t 38.38%\n",
      "Survived after\t\t 40.62%\n",
      "Survived Wikipedia\t 36.62%\n",
      "\n"
     ]
    }
   ],
   "source": [
    "def print_pretty_percent(prefix, field, val, dataset):\n",
    "    print \"{0:s} {1:2.2f}%\".format(prefix, (value_freq(field, dataset, normalize = True, verbose = False)[val])*100)\n",
    "\n",
    "print_pretty_percent(\"Woman before\\t\\t\",'Sex','female',passangers_csv);\n",
    "print_pretty_percent(\"Woman after\\t\\t\",'Sex','female',passangers_csv_val);\n",
    "print \"Woman Wikipedia\\t\\t {0:2.2f}%\\n\".format(37.70)\n",
    "\n",
    "print_pretty_percent(\"Survived before\\t\\t\",'Survived',True,passangers_csv);\n",
    "print_pretty_percent(\"Survived after\\t\\t\",'Survived',True,passangers_csv_val);\n",
    "print \"Survived Wikipedia\\t {0:2.2f}%\\n\".format(36.62)"
   ]
  },
  {
   "cell_type": "markdown",
   "metadata": {},
   "source": [
    "Both proportions increase slightly. The proportion of survivals is now considerably higher then reported in Wikipedia.\n",
    "\n",
    "**Age limit for children**\n",
    "\n",
    "As for the age, [Casualties and survivors](https://en.wikipedia.org/wiki/Sinking_of_the_RMS_Titanic#Casualties_and_survivors) reports a strong pattern among children: all but one child from the First and Second Class has survived. When we compare that to "
   ]
  }
 ],
 "metadata": {
  "anaconda-cloud": {},
  "kernelspec": {
   "display_name": "Python [Root]",
   "language": "python",
   "name": "Python [Root]"
  },
  "language_info": {
   "codemirror_mode": {
    "name": "ipython",
    "version": 2
   },
   "file_extension": ".py",
   "mimetype": "text/x-python",
   "name": "python",
   "nbconvert_exporter": "python",
   "pygments_lexer": "ipython2",
   "version": "2.7.12"
  }
 },
 "nbformat": 4,
 "nbformat_minor": 0
}
